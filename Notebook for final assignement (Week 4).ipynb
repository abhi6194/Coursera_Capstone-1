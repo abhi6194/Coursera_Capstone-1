{
 "cells": [
  {
   "cell_type": "markdown",
   "metadata": {
    "collapsed": true
   },
   "source": [
    "For this week, you will required to submit the following:\n",
    "1.\tA description of the problem and a discussion of the background. (15 marks)\n"
   ]
  },
  {
   "cell_type": "markdown",
   "metadata": {},
   "source": [
    "Description of the problem:\n",
    "\n",
    "A financial analyst from a renowned bank from Colombia got asked to run the whole South American business of an investment bank in its headquarters in São Paulo, Brazil. The executive will have to move with his wife to a new city, in a new country, and needs to know which is the best place to find a new apartment (one or two bedrooms, since they have no kids), based on the location of the office and also considering distance to subway stations and, desirably, close to good restaurants. \n"
   ]
  },
  {
   "cell_type": "markdown",
   "metadata": {},
   "source": [
    "2.\tA description of the data and how it will be used to solve the problem. (15 marks)"
   ]
  },
  {
   "cell_type": "markdown",
   "metadata": {},
   "source": [
    "Description of the data:\n",
    "\n",
    "São Paulo is divided in 32 administrative districts called subprefectures. I will use data from FourSquare in order to locate, based on criteria such as quality and number of nearby subway stations, restaurants, malls and the office itself. \n"
   ]
  },
  {
   "cell_type": "code",
   "execution_count": null,
   "metadata": {},
   "outputs": [],
   "source": []
  }
 ],
 "metadata": {
  "kernelspec": {
   "display_name": "Python 3.6",
   "language": "python",
   "name": "python3"
  },
  "language_info": {
   "codemirror_mode": {
    "name": "ipython",
    "version": 3
   },
   "file_extension": ".py",
   "mimetype": "text/x-python",
   "name": "python",
   "nbconvert_exporter": "python",
   "pygments_lexer": "ipython3",
   "version": "3.6.9"
  }
 },
 "nbformat": 4,
 "nbformat_minor": 1
}
