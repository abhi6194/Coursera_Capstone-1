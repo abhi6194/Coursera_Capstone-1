{
 "cells": [
  {
   "cell_type": "markdown",
   "metadata": {
    "collapsed": true
   },
   "source": [
    "## •\tIntroduction where you discuss the business problem and who would be interested in this project.\n"
   ]
  },
  {
   "cell_type": "markdown",
   "metadata": {},
   "source": [
    "## Introduction:\n",
    "\n",
    "Covered Bonds are a type of investment that is popular in Europe, with some markets, like Germany and France, having more than 300 Billion Euros in bonds outstanding as of the year 2019. This type of bond was first issued in Brazil in late 2018, after the approval from the Brazilian Central Bank.\n",
    "\n",
    "Covered Bonds consist of a portfolio of real estate contract assets, which serve as a guarantee for the investments to be offered to clients of financial institutions. Basically, when you invest in a Covered Bond, such paper is guaranteed by the receivables of a real estate financing contract. In case of default of the institution, the investor can be paid using these receivables.\n",
    "\n",
    "All contracts under the issuing of a Covered Bond have to be manually verified by a third-party company hired to oversee the whole operation, called the Fiduciary Agent. This agent will evaluate every contract and tell the financial institution if such contracts are good for being part of the asset portfolio.\n",
    "\n",
    "The problem here is that some contracts are rejected, and we want to gather data from this – is there any city with more contracts rejected? Maybe the reasons for the rejection are different based on the city?\n"
   ]
  },
  {
   "cell_type": "markdown",
   "metadata": {},
   "source": [
    "## •\tData where you describe the data that will be used to solve the problem and the source of the data."
   ]
  },
  {
   "cell_type": "markdown",
   "metadata": {},
   "source": [
    "## Description of the data:\n",
    "\n",
    "The data that will be used here is a fictitious (even though I work for a Fiduciary Agent company, I cannot and will not use real data in any shape or form for the purposes of this work) csv spreadsheet of the contracts that are candidates of composing the asset portfolio.\n",
    "This spreadsheet includes the reference number of that contract, the city from where this contract comes from, and the status, which informs us if the contract is ok to he be included under the asset portfolio, or if it was rejected (and why, in this case).\n",
    "\n"
   ]
  },
  {
   "cell_type": "markdown",
   "metadata": {},
   "source": [
    "## •\tMethodology section which represents the main component of the report where you discuss and describe any exploratory data analysis that you did, any inferential statistical testing that you performed, if any, and what machine learnings were used and why."
   ]
  },
  {
   "cell_type": "markdown",
   "metadata": {},
   "source": [
    "## Methodology\n",
    "\n",
    "The first thing we have to do is import the dataset (which is the BondsStatus.csv file described above).\n"
   ]
  },
  {
   "cell_type": "code",
   "execution_count": 18,
   "metadata": {},
   "outputs": [
    {
     "data": {
      "text/html": [
       "<div>\n",
       "<style scoped>\n",
       "    .dataframe tbody tr th:only-of-type {\n",
       "        vertical-align: middle;\n",
       "    }\n",
       "\n",
       "    .dataframe tbody tr th {\n",
       "        vertical-align: top;\n",
       "    }\n",
       "\n",
       "    .dataframe thead th {\n",
       "        text-align: right;\n",
       "    }\n",
       "</style>\n",
       "<table border=\"1\" class=\"dataframe\">\n",
       "  <thead>\n",
       "    <tr style=\"text-align: right;\">\n",
       "      <th></th>\n",
       "      <th>REFERENCE</th>\n",
       "      <th>CITY</th>\n",
       "      <th>STATUS</th>\n",
       "    </tr>\n",
       "  </thead>\n",
       "  <tbody>\n",
       "    <tr>\n",
       "      <th>0</th>\n",
       "      <td>10075</td>\n",
       "      <td>RIO DE JANEIRO</td>\n",
       "      <td>OK</td>\n",
       "    </tr>\n",
       "    <tr>\n",
       "      <th>1</th>\n",
       "      <td>10131</td>\n",
       "      <td>RIO DE JANEIRO</td>\n",
       "      <td>REJECTED - SIGNATURES MISSING</td>\n",
       "    </tr>\n",
       "    <tr>\n",
       "      <th>2</th>\n",
       "      <td>10285</td>\n",
       "      <td>SALVADOR</td>\n",
       "      <td>OK</td>\n",
       "    </tr>\n",
       "    <tr>\n",
       "      <th>3</th>\n",
       "      <td>10404</td>\n",
       "      <td>SALVADOR</td>\n",
       "      <td>OK</td>\n",
       "    </tr>\n",
       "    <tr>\n",
       "      <th>4</th>\n",
       "      <td>10574</td>\n",
       "      <td>RIO DE JANEIRO</td>\n",
       "      <td>REJECTED - PAGES MISSING</td>\n",
       "    </tr>\n",
       "  </tbody>\n",
       "</table>\n",
       "</div>"
      ],
      "text/plain": [
       "   REFERENCE            CITY                         STATUS\n",
       "0      10075  RIO DE JANEIRO                             OK\n",
       "1      10131  RIO DE JANEIRO  REJECTED - SIGNATURES MISSING\n",
       "2      10285        SALVADOR                             OK\n",
       "3      10404        SALVADOR                             OK\n",
       "4      10574  RIO DE JANEIRO       REJECTED - PAGES MISSING"
      ]
     },
     "execution_count": 18,
     "metadata": {},
     "output_type": "execute_result"
    }
   ],
   "source": [
    "#First thing is to import pandas and read the file. I preferred to use the embedded \"drop files here\" option from the notebooks.\n",
    "\n",
    "import types\n",
    "import pandas as pd\n",
    "from botocore.client import Config\n",
    "import ibm_boto3\n",
    "\n",
    "def __iter__(self): return 0\n",
    "\n",
    "# @hidden_cell\n",
    "# The following code accesses a file in your IBM Cloud Object Storage. It includes your credentials.\n",
    "# You might want to remove those credentials before you share the notebook.\n",
    "client_958146e863d847d38c512ed8abf427d1 = ibm_boto3.client(service_name='s3',\n",
    "    ibm_api_key_id='EprCFas4mpa_l7pYDBZtOMPhtsqPT_tDvNgFD8goupCM',\n",
    "    ibm_auth_endpoint=\"https://iam.ng.bluemix.net/oidc/token\",\n",
    "    config=Config(signature_version='oauth'),\n",
    "    endpoint_url='https://s3-api.us-geo.objectstorage.service.networklayer.com')\n",
    "\n",
    "body = client_958146e863d847d38c512ed8abf427d1.get_object(Bucket='myfinalassignementcapstone-donotdelete-pr-aqeelk1qdgo6vu',Key='BondsStatus.csv')['Body']\n",
    "# add missing __iter__ method, so pandas accepts body as file-like object\n",
    "if not hasattr(body, \"__iter__\"): body.__iter__ = types.MethodType( __iter__, body )\n",
    "\n",
    "# If you are reading an Excel file into a pandas DataFrame, replace `read_csv` by `read_excel` in the next statement.\n",
    "df_data_0 = pd.read_csv(body)\n",
    "df_data_0.head()\n"
   ]
  },
  {
   "cell_type": "markdown",
   "metadata": {},
   "source": [
    "Above, we can see the first 5 rows of our CSV file. Its a small sample that already show some types of status."
   ]
  },
  {
   "cell_type": "code",
   "execution_count": 19,
   "metadata": {},
   "outputs": [
    {
     "name": "stdout",
     "output_type": "stream",
     "text": [
      "REFERENCE     int64\n",
      "CITY         object\n",
      "STATUS       object\n",
      "dtype: object\n"
     ]
    }
   ],
   "source": [
    "print(df_data_0.dtypes)"
   ]
  },
  {
   "cell_type": "markdown",
   "metadata": {},
   "source": [
    "Just for the sake of it, on the above cell we used the dtypes function to see which data types we are working with."
   ]
  },
  {
   "cell_type": "code",
   "execution_count": 20,
   "metadata": {},
   "outputs": [
    {
     "data": {
      "text/plain": [
       "OK                               1874\n",
       "REJECTED - PAGES MISSING           96\n",
       "REJECTED - SIGNATURES MISSING      29\n",
       "Name: STATUS, dtype: int64"
      ]
     },
     "execution_count": 20,
     "metadata": {},
     "output_type": "execute_result"
    }
   ],
   "source": [
    "#Value Counting to know how many occurences of each Status type we are dealing with\n",
    "df_data_0['STATUS'].value_counts()"
   ]
  },
  {
   "cell_type": "markdown",
   "metadata": {},
   "source": [
    "We have an interesting insight from the above results. From the 2000 values in the .csv file, we have 1874 contracts with OK status - which is good, it means that the financial institutions will be able to use most of the contracts that were given for verification to the Fiduciary Agent. Also, we know that we have 96 contracts with pages missing, and 29 with signatures missing."
   ]
  },
  {
   "cell_type": "code",
   "execution_count": 21,
   "metadata": {},
   "outputs": [
    {
     "data": {
      "text/plain": [
       "RIO DE JANEIRO    911\n",
       "SALVADOR          746\n",
       "SÃO PAULO         342\n",
       "Name: CITY, dtype: int64"
      ]
     },
     "execution_count": 21,
     "metadata": {},
     "output_type": "execute_result"
    }
   ],
   "source": [
    "df_data_0['CITY'].value_counts()"
   ]
  },
  {
   "cell_type": "markdown",
   "metadata": {},
   "source": [
    "Now we are going deeper into the analysis. Using the value counts for the city column, we now know that there are 911 contracts in Rio, 746 in Salvador and 342 in Sao Paulo."
   ]
  },
  {
   "cell_type": "code",
   "execution_count": 23,
   "metadata": {},
   "outputs": [
    {
     "data": {
      "image/png": "[encoded data removed]",
      "text/plain": [
       "<Figure size 432x288 with 1 Axes>"
      ]
     },
     "metadata": {
      "needs_background": "light"
     },
     "output_type": "display_data"
    }
   ],
   "source": [
    "df_data_0['CITY'].value_counts().plot(kind='bar');"
   ]
  },
  {
   "cell_type": "markdown",
   "metadata": {},
   "source": [
    "Using the plot function for a bar graph, we can see facilitate the visualization."
   ]
  },
  {
   "cell_type": "code",
   "execution_count": 78,
   "metadata": {},
   "outputs": [
    {
     "data": {
      "text/plain": [
       "CITY            STATUS                       \n",
       "RIO DE JANEIRO  OK                               854\n",
       "                REJECTED - PAGES MISSING          46\n",
       "                REJECTED - SIGNATURES MISSING     11\n",
       "SALVADOR        OK                               703\n",
       "                REJECTED - PAGES MISSING          31\n",
       "                REJECTED - SIGNATURES MISSING     12\n",
       "SÃO PAULO       OK                               317\n",
       "                REJECTED - PAGES MISSING          19\n",
       "                REJECTED - SIGNATURES MISSING      6\n",
       "dtype: int64"
      ]
     },
     "execution_count": 78,
     "metadata": {},
     "output_type": "execute_result"
    }
   ],
   "source": [
    "df_data_0.groupby([\"CITY\", \"STATUS\"]).size()"
   ]
  },
  {
   "cell_type": "code",
   "execution_count": 87,
   "metadata": {
    "scrolled": true
   },
   "outputs": [
    {
     "name": "stdout",
     "output_type": "stream",
     "text": [
      "CITY            STATUS                       \n",
      "RIO DE JANEIRO  OK                               0.427214\n",
      "                REJECTED - PAGES MISSING         0.023012\n",
      "                REJECTED - SIGNATURES MISSING    0.005503\n",
      "SALVADOR        OK                               0.351676\n",
      "                REJECTED - PAGES MISSING         0.015508\n",
      "                REJECTED - SIGNATURES MISSING    0.006003\n",
      "SÃO PAULO       OK                               0.158579\n",
      "                REJECTED - PAGES MISSING         0.009505\n",
      "                REJECTED - SIGNATURES MISSING    0.003002\n",
      "dtype: float64\n"
     ]
    }
   ],
   "source": [
    "newdf = pd.crosstab(index=df_data_0['CITY'], columns=df_data_0['STATUS']).stack()/len(df_data_0)\n",
    ">>> print(newdf)"
   ]
  },
  {
   "cell_type": "markdown",
   "metadata": {},
   "source": [
    "## Results\n",
    "\n",
    "Now, using crosstab, we can compare the percentages of each type of status for each city. Judging by these results, we can conclude that there are no cities with a considerably higher number of Rejected occurences than others. Also, as verified above, the number of Rejected occurrences can be considered small next to the contracts with OK status"
   ]
  },
  {
   "cell_type": "markdown",
   "metadata": {},
   "source": [
    "## Discussion\n",
    "\n",
    "The results were somewhat expected - if the Fiduciary Agent detected a high number of Rejected contracts, they would most likely contact the financial institutions in order to know what can be done to get better contracts - be it better scanned versions of them, for example, or a better sorting by the financial institution itself."
   ]
  },
  {
   "cell_type": "markdown",
   "metadata": {},
   "source": [
    "## Conclusion\n",
    "\n",
    "The above study was conducted in order to have a better knowledge if there is any city with a really higher incidence of Rejected contracts in comparison to other. After such analysis, considering that all three cities have lower than 3% of rejected contracts (closer to 2%), we can infer that no city has a considerable number of Rejected contracts, so the operation might continue as usual, without the Fiduciary Agent having to interfere or communicate anything to the financial institutions involved."
   ]
  },
  {
   "cell_type": "code",
   "execution_count": null,
   "metadata": {},
   "outputs": [],
   "source": []
  }
 ],
 "metadata": {
  "kernelspec": {
   "display_name": "Python 3.6",
   "language": "python",
   "name": "python3"
  },
  "language_info": {
   "codemirror_mode": {
    "name": "ipython",
    "version": 3
   },
   "file_extension": ".py",
   "mimetype": "text/x-python",
   "name": "python",
   "nbconvert_exporter": "python",
   "pygments_lexer": "ipython3",
   "version": "3.6.9"
  }
 },
 "nbformat": 4,
 "nbformat_minor": 1
}
